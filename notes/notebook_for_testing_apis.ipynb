{
 "cells": [
  {
   "cell_type": "markdown",
   "metadata": {
    "deletable": true,
    "editable": true
   },
   "source": [
    "# lending関係サービスのweb APIの試用\n",
    "\n",
    "以下のサービスを試す。\n",
    "\n",
    "| サービス名 | 状況 | \n",
    "| --- | --- |\n",
    "| BASE | 審査待ち |\n",
    "| マネーフォワード | 法人向けはまだAPIを公開してないため、後回し |\n",
    "| SBIネット銀行 | 口座開設待ち |\n",
    "| freee | OAuth2.0のやり取りにあたって、手元にwebサーバーが必要？らしく実験中 |\n",
    "| zaim | 未 |\n",
    "\n",
    "\n",
    "## [BASEのWeb API](https://github.com/baseinc/api-docs)の試用\n",
    "\n",
    "アクセストークン取得のため、[こちらから](https://developers.thebase.in/)あらかじめ申請をする必要がある。\n",
    "[利用規約](https://thebase.in/pages/api_term)に同意する必要がある。注意を引いた項目は以下の２つくらい\n",
    "\n",
    "1. 自社のサービスでBASEへのリンクを貼って「使ってますよ」という事を宣伝する必要がある。\n",
    "2. このAPIをBASEと競合するサービスのために使ってはならない。\n",
    "\n",
    "ここで審査待ちが発生する。\n",
    "\n",
    "pythonの[requests-oauthlibライブラリのOAuth2用公式ドキュメント](http://requests-oauthlib.readthedocs.io/en/latest/oauth2_workflow.html)を参考にする。\n"
   ]
  },
  {
   "cell_type": "code",
   "execution_count": 6,
   "metadata": {
    "collapsed": false,
    "deletable": true,
    "editable": true
   },
   "outputs": [],
   "source": [
    "import requests\n",
    "# from urllib.parse import\n",
    "import webbrowser\n",
    "from requests_oauthlib import OAuth1Session\n",
    "from IPython.core.display import display, HTML"
   ]
  },
  {
   "cell_type": "code",
   "execution_count": null,
   "metadata": {
    "collapsed": false,
    "deletable": true,
    "editable": true
   },
   "outputs": [],
   "source": [
    "baseurl = \"https://api.thebase.in/\"\n",
    "client_id = \"\"\n",
    "secret = \"\"\n",
    "\n",
    "requests.get(\"https://api.github.com/user\")"
   ]
  },
  {
   "cell_type": "markdown",
   "metadata": {
    "deletable": true,
    "editable": true
   },
   "source": [
    "## マネーフォワード\n",
    "\n",
    "SBI、MIZUHO、三井住友銀行といったサービスと連携しており、国内では最多らしい。\n",
    "これら既存金融機関との連携にあたっては参照系API(GET)だけではなく更新系(POST)も最近始めたらしく、強い。\n",
    "\n",
    "公開しているのはごく一部らしく、現時点では提携しないと使えない物が多い。\n",
    "また、法人側(MFクラウド会計)はまだAPIを公開していない。\n",
    "個人側(MFクラウド確定申告)は使えるようだが、とりあえず後回し"
   ]
  },
  {
   "cell_type": "code",
   "execution_count": null,
   "metadata": {
    "collapsed": false,
    "deletable": true,
    "editable": true
   },
   "outputs": [],
   "source": [
    "url = \"https://api.moneyforward.com/oauth/authorize\"\n",
    "res = requests.get(url)\n",
    "print(res)"
   ]
  },
  {
   "cell_type": "markdown",
   "metadata": {
    "deletable": true,
    "editable": true
   },
   "source": [
    "## 住信SBIネット銀行\n",
    "\n",
    "APIの公開にあたって、IBMのサービスを利用している。Bluemixを使用しているのかと思ったが、オンプレミスでも使えるサービスらしい\n",
    "\n",
    "口座開設待ち中\n",
    "\n",
    "![](http://special.nikkeibp.co.jp/atcl/NBO/16/ibm0615/img1.png)"
   ]
  },
  {
   "cell_type": "code",
   "execution_count": null,
   "metadata": {
    "collapsed": true,
    "deletable": true,
    "editable": true
   },
   "outputs": [],
   "source": []
  },
  {
   "cell_type": "markdown",
   "metadata": {
    "collapsed": true,
    "deletable": true,
    "editable": true
   },
   "source": [
    "## [freee](https://secure.freee.co.jp/developers/api/doc?q=), [Zaim](https://dev.zaim.net/)\n",
    "\n",
    "freeeのAPIはすでに[SHARESというサードパーティ企業によって利用されている](https://iotnews.jp/archives/11488)\n",
    "\n",
    "OAuth2.0を使用\n",
    "\n",
    "> (コールバックURIは)ローカル環境でのテストには `urn:ietf:wg:oauth:2.0:oob` をご利用ください。\n",
    "\n",
    "とのこと\n"
   ]
  },
  {
   "cell_type": "code",
   "execution_count": 18,
   "metadata": {
    "collapsed": false,
    "deletable": true,
    "editable": true
   },
   "outputs": [],
   "source": [
    "appid = \"2e3a35b132e32628f617a197255e523f9cc55c18032f216c32c7470e001e2653\"\n",
    "secret = \"d1de57fabbfb27bfa998dcb0f7bab0431de79d44c57a3823091f218bd2213b12\"\n",
    "\n",
    "\n",
    "def call_freee_api(uri, params):\n",
    "    # url = \"https://api.freee.co.jp\"\n",
    "    # auth_url = \"https://secure.freee.co.jp/oauth/authorize\"\n",
    "    # user_url = url + relative_uri\n",
    "\n",
    "    res = requests.get(url, params = params)\n",
    "    res.raise_for_status()\n",
    "    return res\n",
    "\n",
    "\n",
    "authorization_code_flow_params = {\n",
    "        \"client_id\" : appid,\n",
    "        \"client_secret\": secret,\n",
    "        \"redirect_uri\": \"urn%3Aietf%3Awg%3Aoauth%3A2.0%3Aoob\",\n",
    "        \"response_type\": \"code\"\n",
    "}   \n",
    "res = call_freee_api(\"/api/1/users/me.json\", authorization_code_flow_params)\n",
    "# print(res)\n",
    "# display(HTML(res.text)) # 認証用widgetが表示されるが、手元にwebサーバーがないと動かない。\n",
    "# with open(\"./freee_return.html\", \"w\") as outfh:\n",
    "    # outfh.write(res.text)"
   ]
  },
  {
   "cell_type": "markdown",
   "metadata": {
    "deletable": true,
    "editable": true
   },
   "source": []
  },
  {
   "cell_type": "code",
   "execution_count": 20,
   "metadata": {
    "collapsed": false
   },
   "outputs": [
    {
     "data": {
      "text/plain": [
       "'<!DOCTYPE html>\\n<html>\\n<head>\\n  <meta charset=\"UTF-8\">\\n  <meta http-equiv=\"X-UA-Compatible\" content=\"IE=edge,chrome=1\">\\n<script type=\"text/javascript\">window.NREUM||(NREUM={});NREUM.info={\"beacon\":\"bam.nr-data.net\",\"errorBeacon\":\"bam.nr-data.net\",\"licenseKey\":\"7f45471ba9\",\"applicationID\":\"2211425\",\"transactionName\":\"JgwIREcJDVsGEEpBARYQD19bFU5ZBhU=\",\"queueTime\":0,\"applicationTime\":92,\"agent\":\"\"}</script>\\n<script type=\"text/javascript\">(window.NREUM||(NREUM={})).loader_config={xpid:\"VwIBWFBbGwECVVBWBQQ=\"};window.NREUM||(NREUM={}),__nr_require=function(t,n,e){function r(e){if(!n[e]){var o=n[e]={exports:{}};t[e][0].call(o.exports,function(n){var o=t[e][1][n];return r(o||n)},o,o.exports)}return n[e].exports}if(\"function\"==typeof __nr_require)return __nr_require;for(var o=0;o<e.length;o++)r(e[o]);return r}({1:[function(t,n,e){function r(t){try{s.console&&console.log(t)}catch(n){}}var o,i=t(\"ee\"),a=t(15),s={};try{o=localStorage.getItem(\"__nr_flags\").split(\",\"),console&&\"function\"==typeof console.log&&(s.console=!0,o.indexOf(\"dev\")!==-1&&(s.dev=!0),o.indexOf(\"nr_dev\")!==-1&&(s.nrDev=!0))}catch(c){}s.nrDev&&i.on(\"internal-error\",function(t){r(t.stack)}),s.dev&&i.on(\"fn-err\",function(t,n,e){r(e.stack)}),s.dev&&(r(\"NR AGENT IN DEVELOPMENT MODE\"),r(\"flags: \"+a(s,function(t,n){return t}).join(\", \")))},{}],2:[function(t,n,e){function r(t,n,e,r,o){try{d?d-=1:i(\"err\",[o||new UncaughtException(t,n,e)])}catch(s){try{i(\"ierr\",[s,c.now(),!0])}catch(u){}}return\"function\"==typeof f&&f.apply(this,a(arguments))}function UncaughtException(t,n,e){this.message=t||\"Uncaught error with no additional information\",this.sourceURL=n,this.line=e}function o(t){i(\"err\",[t,c.now()])}var i=t(\"handle\"),a=t(16),s=t(\"ee\"),c=t(\"loader\"),f=window.onerror,u=!1,d=0;c.features.err=!0,t(1),window.onerror=r;try{throw new Error}catch(l){\"stack\"in l&&(t(8),t(7),\"addEventListener\"in window&&t(5),c.xhrWrappable&&t(9),u=!0)}s.on(\"fn-start\",function(t,n,e){u&&(d+=1)}),s.on(\"fn-err\",function(t,n,e){u&&(this.thrown=!0,o(e))}),s.on(\"fn-end\",function(){u&&!this.thrown&&d>0&&(d-=1)}),s.on(\"internal-error\",function(t){i(\"ierr\",[t,c.now(),!0])})},{}],3:[function(t,n,e){t(\"loader\").features.ins=!0},{}],4:[function(t,n,e){function r(t){}if(window.performance&&window.performance.timing&&window.performance.getEntriesByType){var o=t(\"ee\"),i=t(\"handle\"),a=t(8),s=t(7),c=\"learResourceTimings\",f=\"addEventListener\",u=\"resourcetimingbufferfull\",d=\"bstResource\",l=\"resource\",p=\"-start\",h=\"-end\",m=\"fn\"+p,w=\"fn\"+h,v=\"bstTimer\",y=\"pushState\",g=t(\"loader\");g.features.stn=!0,t(6);var b=NREUM.o.EV;o.on(m,function(t,n){var e=t[0];e instanceof b&&(this.bstStart=g.now())}),o.on(w,function(t,n){var e=t[0];e instanceof b&&i(\"bst\",[e,n,this.bstStart,g.now()])}),a.on(m,function(t,n,e){this.bstStart=g.now(),this.bstType=e}),a.on(w,function(t,n){i(v,[n,this.bstStart,g.now(),this.bstType])}),s.on(m,function(){this.bstStart=g.now()}),s.on(w,function(t,n){i(v,[n,this.bstStart,g.now(),\"requestAnimationFrame\"])}),o.on(y+p,function(t){this.time=g.now(),this.startPath=location.pathname+location.hash}),o.on(y+h,function(t){i(\"bstHist\",[location.pathname+location.hash,this.startPath,this.time])}),f in window.performance&&(window.performance[\"c\"+c]?window.performance[f](u,function(t){i(d,[window.performance.getEntriesByType(l)]),window.performance[\"c\"+c]()},!1):window.performance[f](\"webkit\"+u,function(t){i(d,[window.performance.getEntriesByType(l)]),window.performance[\"webkitC\"+c]()},!1)),document[f](\"scroll\",r,{passive:!0}),document[f](\"keypress\",r,!1),document[f](\"click\",r,!1)}},{}],5:[function(t,n,e){function r(t){for(var n=t;n&&!n.hasOwnProperty(u);)n=Object.getPrototypeOf(n);n&&o(n)}function o(t){s.inPlace(t,[u,d],\"-\",i)}function i(t,n){return t[1]}var a=t(\"ee\").get(\"events\"),s=t(18)(a,!0),c=t(\"gos\"),f=XMLHttpRequest,u=\"addEventListener\",d=\"removeEventListener\";n.exports=a,\"getPrototypeOf\"in Object?(r(document),r(window),r(f.prototype)):f.prototype.hasOwnProperty(u)&&(o(window),o(f.prototype)),a.on(u+\"-start\",function(t,n){var e=t[1],r=c(e,\"nr@wrapped\",function(){function t(){if(\"function\"==typeof e.handleEvent)return e.handleEvent.apply(e,arguments)}var n={object:t,\"function\":e}[typeof e];return n?s(n,\"fn-\",null,n.name||\"anonymous\"):e});this.wrapped=t[1]=r}),a.on(d+\"-start\",function(t){t[1]=this.wrapped||t[1]})},{}],6:[function(t,n,e){var r=t(\"ee\").get(\"history\"),o=t(18)(r);n.exports=r,o.inPlace(window.history,[\"pushState\",\"replaceState\"],\"-\")},{}],7:[function(t,n,e){var r=t(\"ee\").get(\"raf\"),o=t(18)(r),i=\"equestAnimationFrame\";n.exports=r,o.inPlace(window,[\"r\"+i,\"mozR\"+i,\"webkitR\"+i,\"msR\"+i],\"raf-\"),r.on(\"raf-start\",function(t){t[0]=o(t[0],\"fn-\")})},{}],8:[function(t,n,e){function r(t,n,e){t[0]=a(t[0],\"fn-\",null,e)}function o(t,n,e){this.method=e,this.timerDuration=\"number\"==typeof t[1]?t[1]:0,t[0]=a(t[0],\"fn-\",this,e)}var i=t(\"ee\").get(\"timer\"),a=t(18)(i),s=\"setTimeout\",c=\"setInterval\",f=\"clearTimeout\",u=\"-start\",d=\"-\";n.exports=i,a.inPlace(window,[s,\"setImmediate\"],s+d),a.inPlace(window,[c],c+d),a.inPlace(window,[f,\"clearImmediate\"],f+d),i.on(c+u,r),i.on(s+u,o)},{}],9:[function(t,n,e){function r(t,n){d.inPlace(n,[\"onreadystatechange\"],\"fn-\",s)}function o(){var t=this,n=u.context(t);t.readyState>3&&!n.resolved&&(n.resolved=!0,u.emit(\"xhr-resolved\",[],t)),d.inPlace(t,w,\"fn-\",s)}function i(t){v.push(t),h&&(g=-g,b.data=g)}function a(){for(var t=0;t<v.length;t++)r([],v[t]);v.length&&(v=[])}function s(t,n){return n}function c(t,n){for(var e in t)n[e]=t[e];return n}t(5);var f=t(\"ee\"),u=f.get(\"xhr\"),d=t(18)(u),l=NREUM.o,p=l.XHR,h=l.MO,m=\"readystatechange\",w=[\"onload\",\"onerror\",\"onabort\",\"onloadstart\",\"onloadend\",\"onprogress\",\"ontimeout\"],v=[];n.exports=u;var y=window.XMLHttpRequest=function(t){var n=new p(t);try{u.emit(\"new-xhr\",[n],n),n.addEventListener(m,o,!1)}catch(e){try{u.emit(\"internal-error\",[e])}catch(r){}}return n};if(c(p,y),y.prototype=p.prototype,d.inPlace(y.prototype,[\"open\",\"send\"],\"-xhr-\",s),u.on(\"send-xhr-start\",function(t,n){r(t,n),i(n)}),u.on(\"open-xhr-start\",r),h){var g=1,b=document.createTextNode(g);new h(a).observe(b,{characterData:!0})}else f.on(\"fn-end\",function(t){t[0]&&t[0].type===m||a()})},{}],10:[function(t,n,e){function r(t){var n=this.params,e=this.metrics;if(!this.ended){this.ended=!0;for(var r=0;r<d;r++)t.removeEventListener(u[r],this.listener,!1);if(!n.aborted){if(e.duration=a.now()-this.startTime,4===t.readyState){n.status=t.status;var i=o(t,this.lastSize);if(i&&(e.rxSize=i),this.sameOrigin){var c=t.getResponseHeader(\"X-NewRelic-App-Data\");c&&(n.cat=c.split(\", \").pop())}}else n.status=0;e.cbTime=this.cbTime,f.emit(\"xhr-done\",[t],t),s(\"xhr\",[n,e,this.startTime])}}}function o(t,n){var e=t.responseType;if(\"json\"===e&&null!==n)return n;var r=\"arraybuffer\"===e||\"blob\"===e||\"json\"===e?t.response:t.responseText;return h(r)}function i(t,n){var e=c(n),r=t.params;r.host=e.hostname+\":\"+e.port,r.pathname=e.pathname,t.sameOrigin=e.sameOrigin}var a=t(\"loader\");if(a.xhrWrappable){var s=t(\"handle\"),c=t(11),f=t(\"ee\"),u=[\"load\",\"error\",\"abort\",\"timeout\"],d=u.length,l=t(\"id\"),p=t(14),h=t(13),m=window.XMLHttpRequest;a.features.xhr=!0,t(9),f.on(\"new-xhr\",function(t){var n=this;n.totalCbs=0,n.called=0,n.cbTime=0,n.end=r,n.ended=!1,n.xhrGuids={},n.lastSize=null,p&&(p>34||p<10)||window.opera||t.addEventListener(\"progress\",function(t){n.lastSize=t.loaded},!1)}),f.on(\"open-xhr-start\",function(t){this.params={method:t[0]},i(this,t[1]),this.metrics={}}),f.on(\"open-xhr-end\",function(t,n){\"loader_config\"in NREUM&&\"xpid\"in NREUM.loader_config&&this.sameOrigin&&n.setRequestHeader(\"X-NewRelic-ID\",NREUM.loader_config.xpid)}),f.on(\"send-xhr-start\",function(t,n){var e=this.metrics,r=t[0],o=this;if(e&&r){var i=h(r);i&&(e.txSize=i)}this.startTime=a.now(),this.listener=function(t){try{\"abort\"===t.type&&(o.params.aborted=!0),(\"load\"!==t.type||o.called===o.totalCbs&&(o.onloadCalled||\"function\"!=typeof n.onload))&&o.end(n)}catch(e){try{f.emit(\"internal-error\",[e])}catch(r){}}};for(var s=0;s<d;s++)n.addEventListener(u[s],this.listener,!1)}),f.on(\"xhr-cb-time\",function(t,n,e){this.cbTime+=t,n?this.onloadCalled=!0:this.called+=1,this.called!==this.totalCbs||!this.onloadCalled&&\"function\"==typeof e.onload||this.end(e)}),f.on(\"xhr-load-added\",function(t,n){var e=\"\"+l(t)+!!n;this.xhrGuids&&!this.xhrGuids[e]&&(this.xhrGuids[e]=!0,this.totalCbs+=1)}),f.on(\"xhr-load-removed\",function(t,n){var e=\"\"+l(t)+!!n;this.xhrGuids&&this.xhrGuids[e]&&(delete this.xhrGuids[e],this.totalCbs-=1)}),f.on(\"addEventListener-end\",function(t,n){n instanceof m&&\"load\"===t[0]&&f.emit(\"xhr-load-added\",[t[1],t[2]],n)}),f.on(\"removeEventListener-end\",function(t,n){n instanceof m&&\"load\"===t[0]&&f.emit(\"xhr-load-removed\",[t[1],t[2]],n)}),f.on(\"fn-start\",function(t,n,e){n instanceof m&&(\"onload\"===e&&(this.onload=!0),(\"load\"===(t[0]&&t[0].type)||this.onload)&&(this.xhrCbStart=a.now()))}),f.on(\"fn-end\",function(t,n){this.xhrCbStart&&f.emit(\"xhr-cb-time\",[a.now()-this.xhrCbStart,this.onload,n],n)})}},{}],11:[function(t,n,e){n.exports=function(t){var n=document.createElement(\"a\"),e=window.location,r={};n.href=t,r.port=n.port;var o=n.href.split(\"://\");!r.port&&o[1]&&(r.port=o[1].split(\"/\")[0].split(\"@\").pop().split(\":\")[1]),r.port&&\"0\"!==r.port||(r.port=\"https\"===o[0]?\"443\":\"80\"),r.hostname=n.hostname||e.hostname,r.pathname=n.pathname,r.protocol=o[0],\"/\"!==r.pathname.charAt(0)&&(r.pathname=\"/\"+r.pathname);var i=!n.protocol||\":\"===n.protocol||n.protocol===e.protocol,a=n.hostname===document.domain&&n.port===e.port;return r.sameOrigin=i&&(!n.hostname||a),r}},{}],12:[function(t,n,e){function r(){}function o(t,n,e){return function(){return i(t,[f.now()].concat(s(arguments)),n?null:this,e),n?void 0:this}}var i=t(\"handle\"),a=t(15),s=t(16),c=t(\"ee\").get(\"tracer\"),f=t(\"loader\"),u=NREUM;\"undefined\"==typeof window.newrelic&&(newrelic=u);var d=[\"setPageViewName\",\"setCustomAttribute\",\"setErrorHandler\",\"finished\",\"addToTrace\",\"inlineHit\",\"addRelease\"],l=\"api-\",p=l+\"ixn-\";a(d,function(t,n){u[n]=o(l+n,!0,\"api\")}),u.addPageAction=o(l+\"addPageAction\",!0),u.setCurrentRouteName=o(l+\"routeName\",!0),n.exports=newrelic,u.interaction=function(){return(new r).get()};var h=r.prototype={createTracer:function(t,n){var e={},r=this,o=\"function\"==typeof n;return i(p+\"tracer\",[f.now(),t,e],r),function(){if(c.emit((o?\"\":\"no-\")+\"fn-start\",[f.now(),r,o],e),o)try{return n.apply(this,arguments)}finally{c.emit(\"fn-end\",[f.now()],e)}}}};a(\"setName,setAttribute,save,ignore,onEnd,getContext,end,get\".split(\",\"),function(t,n){h[n]=o(p+n)}),newrelic.noticeError=function(t){\"string\"==typeof t&&(t=new Error(t)),i(\"err\",[t,f.now()])}},{}],13:[function(t,n,e){n.exports=function(t){if(\"string\"==typeof t&&t.length)return t.length;if(\"object\"==typeof t){if(\"undefined\"!=typeof ArrayBuffer&&t instanceof ArrayBuffer&&t.byteLength)return t.byteLength;if(\"undefined\"!=typeof Blob&&t instanceof Blob&&t.size)return t.size;if(!(\"undefined\"!=typeof FormData&&t instanceof FormData))try{return JSON.stringify(t).length}catch(n){return}}}},{}],14:[function(t,n,e){var r=0,o=navigator.userAgent.match(/Firefox[\\\\/\\\\s](\\\\d+\\\\.\\\\d+)/);o&&(r=+o[1]),n.exports=r},{}],15:[function(t,n,e){function r(t,n){var e=[],r=\"\",i=0;for(r in t)o.call(t,r)&&(e[i]=n(r,t[r]),i+=1);return e}var o=Object.prototype.hasOwnProperty;n.exports=r},{}],16:[function(t,n,e){function r(t,n,e){n||(n=0),\"undefined\"==typeof e&&(e=t?t.length:0);for(var r=-1,o=e-n||0,i=Array(o<0?0:o);++r<o;)i[r]=t[n+r];return i}n.exports=r},{}],17:[function(t,n,e){n.exports={exists:\"undefined\"!=typeof window.performance&&window.performance.timing&&\"undefined\"!=typeof window.performance.timing.navigationStart}},{}],18:[function(t,n,e){function r(t){return!(t&&t instanceof Function&&t.apply&&!t[a])}var o=t(\"ee\"),i=t(16),a=\"nr@original\",s=Object.prototype.hasOwnProperty,c=!1;n.exports=function(t,n){function e(t,n,e,o){function nrWrapper(){var r,a,s,c;try{a=this,r=i(arguments),s=\"function\"==typeof e?e(r,a):e||{}}catch(f){l([f,\"\",[r,a,o],s])}u(n+\"start\",[r,a,o],s);try{return c=t.apply(a,r)}catch(d){throw u(n+\"err\",[r,a,d],s),d}finally{u(n+\"end\",[r,a,c],s)}}return r(t)?t:(n||(n=\"\"),nrWrapper[a]=t,d(t,nrWrapper),nrWrapper)}function f(t,n,o,i){o||(o=\"\");var a,s,c,f=\"-\"===o.charAt(0);for(c=0;c<n.length;c++)s=n[c],a=t[s],r(a)||(t[s]=e(a,f?s+o:o,i,s))}function u(e,r,o){if(!c||n){var i=c;c=!0;try{t.emit(e,r,o,n)}catch(a){l([a,e,r,o])}c=i}}function d(t,n){if(Object.defineProperty&&Object.keys)try{var e=Object.keys(t);return e.forEach(function(e){Object.defineProperty(n,e,{get:function(){return t[e]},set:function(n){return t[e]=n,n}})}),n}catch(r){l([r])}for(var o in t)s.call(t,o)&&(n[o]=t[o]);return n}function l(n){try{t.emit(\"internal-error\",n)}catch(e){}}return t||(t=o),e.inPlace=f,e.flag=a,e}},{}],ee:[function(t,n,e){function r(){}function o(t){function n(t){return t&&t instanceof r?t:t?c(t,s,i):i()}function e(e,r,o,i){if(!l.aborted||i){t&&t(e,r,o);for(var a=n(o),s=h(e),c=s.length,f=0;f<c;f++)s[f].apply(a,r);var d=u[y[e]];return d&&d.push([g,e,r,a]),a}}function p(t,n){v[t]=h(t).concat(n)}function h(t){return v[t]||[]}function m(t){return d[t]=d[t]||o(e)}function w(t,n){f(t,function(t,e){n=n||\"feature\",y[e]=n,n in u||(u[n]=[])})}var v={},y={},g={on:p,emit:e,get:m,listeners:h,context:n,buffer:w,abort:a,aborted:!1};return g}function i(){return new r}function a(){(u.api||u.feature)&&(l.aborted=!0,u=l.backlog={})}var s=\"nr@context\",c=t(\"gos\"),f=t(15),u={},d={},l=n.exports=o();l.backlog=u},{}],gos:[function(t,n,e){function r(t,n,e){if(o.call(t,n))return t[n];var r=e();if(Object.defineProperty&&Object.keys)try{return Object.defineProperty(t,n,{value:r,writable:!0,enumerable:!1}),r}catch(i){}return t[n]=r,r}var o=Object.prototype.hasOwnProperty;n.exports=r},{}],handle:[function(t,n,e){function r(t,n,e,r){o.buffer([t],r),o.emit(t,n,e)}var o=t(\"ee\").get(\"handle\");n.exports=r,r.ee=o},{}],id:[function(t,n,e){function r(t){var n=typeof t;return!t||\"object\"!==n&&\"function\"!==n?-1:t===window?0:a(t,i,function(){return o++})}var o=1,i=\"nr@id\",a=t(\"gos\");n.exports=r},{}],loader:[function(t,n,e){function r(){if(!x++){var t=b.info=NREUM.info,n=l.getElementsByTagName(\"script\")[0];if(setTimeout(u.abort,3e4),!(t&&t.licenseKey&&t.applicationID&&n))return u.abort();f(y,function(n,e){t[n]||(t[n]=e)}),c(\"mark\",[\"onload\",a()+b.offset],null,\"api\");var e=l.createElement(\"script\");e.src=\"https://\"+t.agent,n.parentNode.insertBefore(e,n)}}function o(){\"complete\"===l.readyState&&i()}function i(){c(\"mark\",[\"domContent\",a()+b.offset],null,\"api\")}function a(){return E.exists&&performance.now?Math.round(performance.now()):(s=Math.max((new Date).getTime(),s))-b.offset}var s=(new Date).getTime(),c=t(\"handle\"),f=t(15),u=t(\"ee\"),d=window,l=d.document,p=\"addEventListener\",h=\"attachEvent\",m=d.XMLHttpRequest,w=m&&m.prototype;NREUM.o={ST:setTimeout,CT:clearTimeout,XHR:m,REQ:d.Request,EV:d.Event,PR:d.Promise,MO:d.MutationObserver};var v=\"\"+location,y={beacon:\"bam.nr-data.net\",errorBeacon:\"bam.nr-data.net\",agent:\"js-agent.newrelic.com/nr-1026.min.js\"},g=m&&w&&w[p]&&!/CriOS/.test(navigator.userAgent),b=n.exports={offset:s,now:a,origin:v,features:{},xhrWrappable:g};t(12),l[p]?(l[p](\"DOMContentLoaded\",i,!1),d[p](\"load\",r,!1)):(l[h](\"onreadystatechange\",o),d[h](\"onload\",r)),c(\"mark\",[\"firstbyte\",s],null,\"api\");var x=0,E=t(17)},{}]},{},[\"loader\",2,10,4,3]);</script>\\n  <title>ログイン | クラウド会計ソフト freee (フリー)</title>\\n    <meta name=\"description\" itemprop=\"description\" content=\"無料から使える、シェアNo.1のクラウド会計ソフト freee（フリー）。銀行やカードのweb口座と連携して、個人事業主、中小企業の経理・会計・帳簿作成を大幅に簡単に。Mac（マック）でも快適に使えます。法人の決算書作成、個人事業主の青色申告にも対応。\" />\\n  <meta name=\"google-site-verification\" content=\"xes_P75DPLvvOiNMlUMMtkbBLrjRR5a9J3-c0JYKmHY\">\\n      <meta name=\"viewport\" content=\"width=device-width, initial-scale=1, user-scalable=no\">\\n  <meta name=\"csrf-param\" content=\"authenticity_token\" />\\n<meta name=\"csrf-token\" content=\"fVJIdysQ/QBfNqFKbuhyyPBd4xyjQsJoqvpMBqZzp6E0UxQrIn64/KKrbTF5kZ9AjQu+aXc1RoKuY7t0p83qDg==\" />\\n    <link rel=\"apple-touch-icon\" type=\"image/x-icon\" href=\"https://accounting-assets.freee.co.jp/assets/apple-touch-icon-114x114-4b0bf78e6101538304fbc6907e518c48.png\" sizes=\"114x114\" />\\n    <link rel=\"apple-touch-icon\" type=\"image/x-icon\" href=\"https://accounting-assets.freee.co.jp/assets/apple-touch-icon-72x72-4b42496c54433a3e91bfa7e70567b181.png\" sizes=\"72x72\" />\\n    <link rel=\"apple-touch-icon\" type=\"image/x-icon\" href=\"https://accounting-assets.freee.co.jp/assets/apple-touch-icon-281b257d4119cca8efe6fcff1b6b9608.png\" sizes=\"57x57\" />\\n    <link rel=\"shortcut icon\" type=\"image/png\" href=\"https://accounting-assets.freee.co.jp/assets/favicon-afef4a34d06df36b5d31d60a52a6469a.png\" />\\n  <meta name=\"apple-itunes-app\" content=\"app-id=811207074\" />\\n  <link rel=\"stylesheet\" media=\"all\" href=\"https://accounting-assets.freee.co.jp/assets/application-a1efc7438d041fea5b9865041e957892.css\" />\\n  <link rel=\"stylesheet\" media=\"all\" href=\"https://accounting-assets.freee.co.jp/assets/freee_icons-307eb285b48c549a3073e20663386d7a.css\" />\\n  <link rel=\"stylesheet\" media=\"all\" href=\"https://accounting-assets.freee.co.jp/assets/page-aaf3681e35737cb53d16dfc2c35743b7.css\" />\\n  \\n</head>\\n<body>\\n    <div id=\"header\" class=\"header-area responsive \">\\n\\n  <div class=\"fixed-contents\">\\n    <div class=\"inner\">\\n      <div class=\"notification error\">\\n  <div class=\"notification-inner\">\\n    <div class=\"notification-content\">\\n      <i class=\"notification-type-icon\"></i>\\n      <span class=\"notification-message\"></span>\\n      <div class=\"notification-progress display-none\">\\n        <span class=\"progress-bar\"><span class=\"progress-bar-inner\"></span></span>\\n        <span class=\"progress-percent\"></span>\\n      </div>\\n      <a class=\"close\">\\n        <i class=\"icon-remove-sign\"></i>\\n      </a>\\n    </div>\\n  </div>\\n</div>\\n\\n    </div>\\n  </div>\\n</div>\\n\\n\\n  <div class=\"contents-area yeild-body responsive\">\\n      \\n\\t  <div id=\"login-page\">\\n    <img alt=\"会計 freeeへログイン\" class=\"title-logo\" src=\"https://accounting-assets.freee.co.jp/assets/freee_new_logo-bc9b7b39f0e669e18535e59e95a6def8.png\" />\\n  <div class=\"container\">\\n    <div class=\"input-form\">\\n      <form class=\"new_user\" id=\"new_user\" action=\"/users/login\" accept-charset=\"UTF-8\" method=\"post\"><input name=\"utf8\" type=\"hidden\" value=\"&#x2713;\" /><input type=\"hidden\" name=\"authenticity_token\" value=\"1wqJ+2yUw6pelosgrEeWH9xVM6Nf1MyjRumAA3wKXUKeC9WnZfqGVqMLR1u7PnuXoQNu1oujSElCcHdxfbQQ7Q==\" />\\n        <div class=\"field\">\\n          <label for=\"user_email\">メールアドレス</label>\\n          <input type=\"email\" value=\"\" name=\"user[email]\" id=\"user_email\" />\\n        </div>\\n        <div class=\"field\">\\n          <label for=\"user_password\">パスワード</label>\\n          <input autocomplete=\"off\" type=\"password\" name=\"user[password]\" id=\"user_password\" />\\n        </div>\\n        <div class=\"button-wrapper\">\\n          <input type=\"hidden\" name=\"user[_air_id]\" id=\"user__air_id\" />\\n          <input type=\"submit\" name=\"commit\" value=\"ログイン\" class=\"btn btn-primary submit-button\" data-disable-with=\"ログインしています...\" />\\n        </div>\\n</form>        <div class=\"devise-shared-links\">\\n          \\n  <a href=\"/users/password/new\">パスワードを忘れたら</a>\\n\\n\\n\\n        </div>\\n    </div>\\n  </div>\\n  <div class=\"sign-up-link\">\\n    <a href=\"/users/sign_up?client_id=2e3a35b132e32628f617a197255e523f9cc55c18032f216c32c7470e001e2653&amp;client_secret=d1de57fabbfb27bfa998dcb0f7bab0431de79d44c57a3823091f218bd2213b12&amp;redirect_uri=urn%253Aietf%253Awg%253Aoauth%253A2.0%253Aoob&amp;response_type=token\">まだアカウントをお持ちでない方はこちら</a>\\n  </div>\\n</div>\\n\\n  </div>\\n  <div id=\"success\"></div>\\n\\n    <div id=\"footer\" class=\"footer-area responsive\">\\n  <div class=\"navigations\">\\n    <ul class=\"links\">\\n      <li><a target=\"_blank\" href=\"https://www.freee.co.jp\">freee 株式会社</a></li>\\n      <li><a target=\"_blank\" href=\"https://www.freee.co.jp/company\">会社情報</a></li>\\n      <li><a target=\"_blank\" href=\"https://www.freee.co.jp/recruit_eng\">採用情報</a></li>\\n      <li><a target=\"_blank\" href=\"https://www.freee.co.jp/terms\">利用規約</a></li>\\n      <li><a target=\"_blank\" href=\"https://www.freee.co.jp/privacy_policy\">プライバシーポリシー</a></li>\\n        <li><a target=\"_blank\" href=\"https://advisors.freee.co.jp/tax_accountants\">アドバイザー検索</a></li>\\n        <li><a target=\"_blank\" href=\"https://cfo.zendesk.com/anonymous_requests/new\">お問い合わせ</a></li>\\n    </ul>\\n\\n    <ul class=\"copyright\">\\n      <li>Copyright 2012-2017 © freee K.K.</li>\\n    </ul>\\n    <div class=\"clearfix\"></div>\\n  </div>\\n\\n    <ul class=\"banners\">\\n      <li>\\n        <a href=\"https://play.google.com/store/apps/details?id=jp.co.freee.freee\" target=\"_blank\">\\n          <img alt=\"Android app on Google Play\" class=\"km-click footer-mb-app\" src=\"https://accounting-assets.freee.co.jp/assets/googleplay-8899a1d1ace47fc364d177cba3600f3f.gif\" />\\n        </a>\\n      </li>\\n      <li>\\n        <a href=\"https://itunes.apple.com/jp/app/freee/id811207074?l=ja&amp;ls=1&amp;mt=8\" target=\"_blank\">\\n          <img alt=\"iPhone app on App Store\" class=\"km-click footer-mb-app\" src=\"https://accounting-assets.freee.co.jp/assets/appstore-d6d494d0d772ac4cfc17b7cf65621d4d.png\" />\\n        </a>\\n      </li>\\n      <li>\\n        <a href=\"https://www.freee.co.jp/privacy_policy\" target=\"_blank\">\\n          <img src=\"https://accounting-assets.freee.co.jp/assets/truste_certified_privacy-422a578b86d51b79c21e13b2b765bd02.png\" />\\n        </a>\\n      </li>\\n    </ul>\\n</div>\\n\\n\\n    <script type=\"text/javascript\">\\n  (function() {\\n    var bs = document.createElement(\\'script\\');\\n    bs.onload = function(){\\n      Bugsnag.releaseStage = \"production\";\\n      Bugsnag.apiKey = \\'fdff151fb2b121efebd285963c296951\\'\\n      Bugsnag.user = {\\n        user_id: null,\\n        company_id: null\\n      };\\n    };\\n    bs.type = \\'text/javascript\\';\\n    bs.async = true;\\n    bs.src = \\'//d2wy8f7a9ursnm.cloudfront.net/bugsnag-2.min.js\\';\\n    var s = document.getElementsByTagName(\\'script\\')[0];\\n    s.parentNode.insertBefore(bs, s);\\n  })();\\n</script>\\n\\n\\n\\n\\n  <script src=\"https://accounting-assets.freee.co.jp/assets/lib-8cccc36b235c2d3d7b949a18d9114e3d.js\"></script>\\n<script src=\"https://accounting-assets.freee.co.jp/assets/root/sessions-e393601d661c81e3575910278319647c.js\"></script>\\n\\n  <style>\\n  .freee_error_notification {\\n    font-size:              13px;\\n    line-height:            18px;\\n    height:                 30px;\\n    color:                  #fff;\\n    background-color:       #C7243A;\\n    display:                -webkit-flex;\\n    display:                flex;\\n    -webkit-align-items:    center;\\n    align-items:            center;\\n    -webkit-justify-content:center;\\n    justify-content:        center;\\n  }\\n  .freee_error_notification a{\\n    color:                  #fff;\\n    text-decoration:        underline;\\n  }\\n</style>\\n\\n<script>\\n  try {\\n    freee;\\n  } catch (e) {\\n    var body = document.getElementsByTagName(\\'body\\')[0];\\n    var div = document.createElement(\\'div\\');\\n    div.textContent = \\'画面表示時に問題が発生しました。画面をリロードしてください。\\';\\n    div.classList.add(\\'freee_error_notification\\');\\n    body.insertBefore(div, body.firstChild);\\n    var alink = document.createElement(\\'a\\');\\n    alink.textContent = \\'（リロードする）\\';\\n    alink.setAttribute(\\'href\\', \\'javascript:location.reload(true);\\');\\n    div.appendChild(alink);\\n\\n    freee = {\\n      data: {\\n        set: function(){\\n        }\\n      }\\n    };\\n  }\\n\\n\\n  freee.RESPONSIVE = true;\\n\\n  if (window.PDFJS) {\\n    PDFJS.cMapUrl = \"/cmaps/\";\\n    PDFJS.cMapPacked = true;\\n    PDFJS.verbosity = PDFJS.VERBOSITY_LEVELS.errors;\\n  }\\n\\n\\n\\n  freee.data.set(\\'helps\\', null );\\n\\n  freee.data.set(\\'zendesk_category\\', {\"取引登録・経理処理\":1,\"請求書\":2,\"経費精算・ファイルボックス\":3,\"レポート全般\":4,\"決算全般\":5,\"口座や同期・残高について\":6,\"給与計算freee\":7,\"料金プラン・freeeへのお支払い\":8,\"設定全般\":9,\"開始残高の設定\":10,\"乗り換え・導入前のご相談\":11,\"退会・メール配信停止\":12,\"要望\":13,\"内部統制\":14,\"その他\":15});\\n  freee.data.set(\\'zendesk_category_sub\\', {labels:{\"deal_cash\":\"現預金取引・掛取引について\",\"deal_settlement\":\"決済処理\",\"deal_creditcard\":\"クレジットカードの処理\",\"deal_data\":\"データの削除・編集など\",\"deal_accounting\":\"経理処理・仕訳・勘定科目\",\"deal_other\":\"その他\",\"invoice_make\":\"請求書作成方法\",\"invoice_payment\":\"請求後の入金処理\",\"invoice_estimate\":\"見積書・納品書\",\"invoice_setting\":\"請求書の設定\",\"invoce_other\":\"その他\",\"expense_receipt\":\"ファイルボックス\",\"expense_application\":\"経費精算機能について\",\"report_trial\":\"試算表・元帳・仕訳帳など\",\"report_cash_summary\":\"資金繰りレポート\",\"report_account\":\"売掛・買掛レポート\",\"report_income\":\"収入・支出・現預金レポート\",\"closing_closing\":\"決算書・確定申告書について\",\"closing_fixed_assets\":\"減価償却・固定資産\",\"closing_inventory_refresh\":\"在庫棚卸\",\"closing_biz_allocation\":\"家事按分\",\"closing_other\":\"振替伝票等その他のお問い合せ\",\"walletable_create\":\"口座登録・削除\",\"walletable_edit\":\"取得した明細の編集・削除\",\"walletable_sync\":\"同期方法\",\"walletable_error\":\"同期エラー\",\"walletable_balance\":\"口座残高\",\"walletable_other\":\"その他\",\"payroll_statements\":\"給与明細の作成\",\"payroll_invications\":\"従業員設定・招待機能\",\"payroll_work_records\":\"勤怠カレンダー\",\"payroll_docs\":\"申告・書類機能\",\"payroll_year_end_adjustment\":\"年末調整\",\"payroll_other\":\"その他\",\"charge_freee\":\"会計freeeの料金・プラン\",\"charge_payroll\":\"給与計算freeeの料金・プラン\",\"charge_other\":\"その他\",\"setting_user\":\"アカウントの設定・ご登録状況\",\"setting_tag\":\"勘定科目・タグ等の設定\",\"setting_invitaion\":\"メンバー招待・権限・共有について\",\"setting_matcher\":\"自動登録ルールの設定\",\"setting_deal_template\":\"取引テンプレートの設定\",\"setting_other\":\"その他\",\"opening_balance_import\":\"開始残高の設定・インポート\",\"opening_balance_settlement\":\"開始残高にある債権債務の決済処理\",\"switching_conversion\":\"他のソフトからデータ移行について\",\"switching_howto\":\"ご利用方法について\",\"switching_price\":\"料金体系・サポート体制など\",\"cancellation_unsubscribe_email\":\"メール配信\",\"cancellation_cancellation\":\"標準プランご解約・お支払停止\",\"cancellation_deactivate\":\"無料プランのご解約・退会について\"}, values: {\"deal_cash\":10,\"deal_settlement\":11,\"deal_creditcard\":12,\"deal_data\":13,\"deal_accounting\":14,\"deal_other\":15,\"invoice_make\":20,\"invoice_payment\":21,\"invoice_estimate\":22,\"invoice_setting\":23,\"invoce_other\":24,\"expense_receipt\":30,\"expense_application\":31,\"report_trial\":40,\"report_cash_summary\":41,\"report_account\":42,\"report_income\":43,\"closing_closing\":50,\"closing_fixed_assets\":51,\"closing_inventory_refresh\":52,\"closing_biz_allocation\":53,\"closing_other\":54,\"walletable_create\":60,\"walletable_edit\":61,\"walletable_sync\":62,\"walletable_error\":63,\"walletable_balance\":64,\"walletable_other\":65,\"payroll_statements\":70,\"payroll_invications\":71,\"payroll_work_records\":72,\"payroll_docs\":73,\"payroll_year_end_adjustment\":74,\"payroll_other\":75,\"charge_freee\":80,\"charge_payroll\":81,\"charge_other\":82,\"setting_user\":90,\"setting_tag\":91,\"setting_invitaion\":92,\"setting_matcher\":93,\"setting_deal_template\":94,\"setting_other\":95,\"opening_balance_import\":100,\"opening_balance_settlement\":101,\"switching_conversion\":110,\"switching_howto\":111,\"switching_price\":112,\"cancellation_unsubscribe_email\":120,\"cancellation_cancellation\":121,\"cancellation_deactivate\":122}});\\n  freee.data.set(\\'path_to_advisor_search\\', \"https://advisors.freee.co.jp/tax_accountants\");\\n\\n  var flashAlerts = {};\\n  flashAlerts[\"warning\"] = \"ログインしてください。\";\\n  if (flashAlerts.primary != null) {\\n    freee.ui.Notifier.success(flashAlerts.primary, {primary: true})\\n  } else if (flashAlerts.error != null) {\\n    freee.ui.Notifier.error(flashAlerts.error)\\n  } else if (flashAlerts.alert != null) {\\n    freee.ui.Notifier.error(flashAlerts.alert)\\n  } else if (flashAlerts.warning != null) {\\n    freee.ui.Notifier.warning(flashAlerts.warning)\\n  } else if (flashAlerts.notice != null) {\\n    freee.ui.Notifier.success(flashAlerts.notice)\\n  }\\n\\n  freee.data.set(\\'nadella\\', false);\\n</script>\\n\\n<script>\\n(function(){\\n  var freee_usages = [];\\n  freee.data.set(\\n      \\'freee_usages\\',\\n      freee_usages\\n    );\\n})();\\n</script>\\n\\n<script>\\n(function(){\\n  freee.data.set(\\n    \\'related_helps\\', {\"edit\":[{\"id\":202848160,\"title\":\"メールアドレス・パスワードを変更・再発行する\"}]}\\n  );\\n})();\\n</script>\\n\\n\\n  \\n\\n\\n\\n\\n  <div class=\"js-deal-editor\"></div>\\n\\n\\n  \\n\\n\\n  <script type=\"text/javascript\">\\n  var _kmq = _kmq || [];\\n  var _kmk = _kmk || \\'408ac84bd1f988ac1ae69cfc9a96d3cd847f0ba5\\';\\n  function _kms(u){\\n    setTimeout(function(){\\n      var d = document, f = d.getElementsByTagName(\\'script\\')[0],\\n      s = d.createElement(\\'script\\');\\n      s.type = \\'text/javascript\\'; s.async = true; s.src = u;\\n      f.parentNode.insertBefore(s, f);\\n    }, 1);\\n  }\\n  _kms(\\'//i.kissmetrics.com/i.js\\');\\n  _kms(\\'//doug1izaerwt3.cloudfront.net/\\' + _kmk + \\'.1.js\\');\\n</script>\\n\\n\\n\\n    <!-- Google Tag Manager -->\\n  <noscript><iframe src=\"//www.googletagmanager.com/ns.html?id=GTM-PRC4W5\"\\n      height=\"0\" width=\"0\" style=\"display:none;visibility:hidden\"></iframe></noscript>\\n  <script>(function(w,d,s,l,i){w[l]=w[l]||[];w[l].push({\\'gtm.start\\':\\n  new Date().getTime(),event:\\'gtm.js\\'});var f=d.getElementsByTagName(s)[0],\\n      j=d.createElement(s),dl=l!=\\'dataLayer\\'?\\'&l=\\'+l:\\'\\';j.async=true;j.src=\\n      \\'//www.googletagmanager.com/gtm.js?id=\\'+i+dl;f.parentNode.insertBefore(j,f);\\n      })(window,document,\\'script\\',\\'dataLayer\\',\\'GTM-PRC4W5\\');</script>\\n  <!-- End Google Tag Manager -->\\n\\n    <script type=\"text/javascript\">\\n(function() {\\n  var didInit = false;\\n  function initMunchkin() {\\n    if(didInit === false) {\\n      didInit = true;\\n      Munchkin.init(\\'548-BFM-800\\', {\\'asyncOnly\\': true, \\'clickTime\\': 0});\\n\\n    }\\n  }\\n\\n  var s = document.createElement(\\'script\\');\\n  s.type = \\'text/javascript\\';\\n  s.async = true;\\n  s.src = \\'//munchkin.marketo.net/munchkin.js\\';\\n  s.onreadystatechange = function() {\\n    if (this.readyState == \\'complete\\' || this.readyState == \\'loaded\\') {\\n      initMunchkin();\\n    }\\n  };\\n  s.onload = initMunchkin;\\n  document.getElementsByTagName(\\'head\\')[0].appendChild(s);\\n})();\\n</script>\\n\\n</body>\\n</html>\\n'"
      ]
     },
     "execution_count": 20,
     "metadata": {},
     "output_type": "execute_result"
    }
   ],
   "source": [
    "url = \"https://secure.freee.co.jp/oauth/authorize\"\n",
    "implicit_flow_params = {\n",
    "    \"client_id\": appid,\n",
    "    \"redirect_uri\": \"urn%3Aietf%3Awg%3Aoauth%3A2.0%3Aoob\",\n",
    "    \"response_type\": \"token\",\n",
    "    \"client_secret\": secret\n",
    "}\n",
    "\n",
    "res = call_freee_api(url, implicit_flow_params)\n",
    "res.text"
   ]
  }
 ],
 "metadata": {
  "kernelspec": {
   "display_name": "Python 3",
   "language": "python",
   "name": "python3"
  },
  "language_info": {
   "codemirror_mode": {
    "name": "ipython",
    "version": 3
   },
   "file_extension": ".py",
   "mimetype": "text/x-python",
   "name": "python",
   "nbconvert_exporter": "python",
   "pygments_lexer": "ipython3",
   "version": "3.5.2"
  }
 },
 "nbformat": 4,
 "nbformat_minor": 2
}
