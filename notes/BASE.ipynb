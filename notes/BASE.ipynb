{
 "cells": [
  {
   "cell_type": "markdown",
   "metadata": {
    "deletable": true,
    "editable": true
   },
   "source": [
    "## [BASEのWeb API](https://github.com/baseinc/api-docs)の試用\n",
    "\n",
    "アクセストークン取得のため、[こちらから](https://developers.thebase.in/)あらかじめ申請をする必要がある。\n",
    "[利用規約](https://thebase.in/pages/api_term)に同意する必要がある。注意を引いた項目は以下の２つくらい\n",
    "\n",
    "1. 自社のサービスでBASEへのリンクを貼って「使ってますよ」という事を宣伝する必要がある。\n",
    "2. このAPIをBASEと競合するサービスのために使ってはならない。\n",
    "\n",
    "ここで審査待ちが発生する。\n",
    "\n",
    "pythonの[requests-oauthlibライブラリのOAuth2用公式ドキュメント](http://requests-oauthlib.readthedocs.io/en/latest/oauth2_workflow.html)を参考にする。\n"
   ]
  },
  {
   "cell_type": "code",
   "execution_count": 1,
   "metadata": {
    "collapsed": false,
    "deletable": true,
    "editable": true
   },
   "outputs": [],
   "source": [
    "import requests\n",
    "# from urllib.parse import\n",
    "import webbrowser\n",
    "from requests_oauthlib import OAuth1Session\n",
    "from IPython.core.display import display, HTML"
   ]
  },
  {
   "cell_type": "code",
   "execution_count": null,
   "metadata": {
    "collapsed": false,
    "deletable": true,
    "editable": true
   },
   "outputs": [],
   "source": [
    "baseurl = \"https://api.thebase.in/\"\n",
    "client_id = \"\"\n",
    "secret = \"\"\n",
    "\n",
    "requests.get(\"https://api.github.com/user\")"
   ]
  },
  {
   "cell_type": "markdown",
   "metadata": {
    "deletable": true,
    "editable": true
   },
   "source": [
    "## マネーフォワード\n",
    "\n",
    "SBI、MIZUHO、三井住友銀行といったサービスと連携しており、国内では最多らしい。\n",
    "これら既存金融機関との連携にあたっては参照系API(GET)だけではなく更新系(POST)も最近始めたらしく、強い。\n",
    "\n",
    "公開しているのはごく一部らしく、現時点では提携しないと使えない物が多い。\n",
    "また、法人側(MFクラウド会計)はまだAPIを公開していない。\n",
    "個人側(MFクラウド確定申告)は使えるようだが、とりあえず後回し"
   ]
  },
  {
   "cell_type": "code",
   "execution_count": null,
   "metadata": {
    "collapsed": false,
    "deletable": true,
    "editable": true
   },
   "outputs": [],
   "source": [
    "url = \"https://api.moneyforward.com/oauth/authorize\"\n",
    "res = requests.get(url)\n",
    "print(res)"
   ]
  },
  {
   "cell_type": "markdown",
   "metadata": {
    "deletable": true,
    "editable": true
   },
   "source": [
    "## 住信SBIネット銀行\n",
    "\n",
    "APIの公開にあたって、IBMのサービスを利用している。Bluemixを使用しているのかと思ったが、オンプレミスでも使えるサービスらしい\n",
    "\n",
    "口座開設待ち中\n",
    "\n",
    "![](http://special.nikkeibp.co.jp/atcl/NBO/16/ibm0615/img1.png)"
   ]
  },
  {
   "cell_type": "code",
   "execution_count": null,
   "metadata": {
    "collapsed": true,
    "deletable": true,
    "editable": true
   },
   "outputs": [],
   "source": []
  },
  {
   "cell_type": "markdown",
   "metadata": {
    "collapsed": true,
    "deletable": true,
    "editable": true
   },
   "source": [
    "## [freee](https://secure.freee.co.jp/developers/api/doc?q=), [Zaim](https://dev.zaim.net/)\n",
    "\n",
    "freeeのAPIはすでに[SHARESというサードパーティ企業によって利用されている](https://iotnews.jp/archives/11488)\n",
    "\n",
    "OAuth2.0を使用\n",
    "\n",
    "> (コールバックURIは)ローカル環境でのテストには `urn:ietf:wg:oauth:2.0:oob` をご利用ください。\n",
    "\n",
    "とのこと\n"
   ]
  },
  {
   "cell_type": "code",
   "execution_count": 2,
   "metadata": {
    "collapsed": false,
    "deletable": true,
    "editable": true
   },
   "outputs": [
    {
     "ename": "HTTPError",
     "evalue": "401 Client Error: Unauthorized for url: https://api.freee.co.jp/api/1/users/me.json?response_type=code&client_secret=d1de57fabbfb27bfa998dcb0f7bab0431de79d44c57a3823091f218bd2213b12&redirect_uri=urn%253Aietf%253Awg%253Aoauth%253A2.0%253Aoob&client_id=2e3a35b132e32628f617a197255e523f9cc55c18032f216c32c7470e001e2653",
     "output_type": "error",
     "traceback": [
      "\u001b[0;31m---------------------------------------------------------------------------\u001b[0m",
      "\u001b[0;31mHTTPError\u001b[0m                                 Traceback (most recent call last)",
      "\u001b[0;32m<ipython-input-2-5b466eb51904>\u001b[0m in \u001b[0;36m<module>\u001b[0;34m()\u001b[0m\n\u001b[1;32m     15\u001b[0m     \u001b[0;32mreturn\u001b[0m \u001b[0mres\u001b[0m\u001b[0;34m\u001b[0m\u001b[0m\n\u001b[1;32m     16\u001b[0m \u001b[0;34m\u001b[0m\u001b[0m\n\u001b[0;32m---> 17\u001b[0;31m \u001b[0mres\u001b[0m \u001b[0;34m=\u001b[0m \u001b[0mcall_freee_api\u001b[0m\u001b[0;34m(\u001b[0m\u001b[0;34m\"/api/1/users/me.json\"\u001b[0m\u001b[0;34m)\u001b[0m\u001b[0;34m\u001b[0m\u001b[0m\n\u001b[0m\u001b[1;32m     18\u001b[0m \u001b[0mprint\u001b[0m\u001b[0;34m(\u001b[0m\u001b[0mres\u001b[0m\u001b[0;34m)\u001b[0m\u001b[0;34m\u001b[0m\u001b[0m\n\u001b[1;32m     19\u001b[0m \u001b[0;31m# display(HTML(res.text)) # 認証用widgetが表示されるが、手元にwebサーバーがないと動かない。\u001b[0m\u001b[0;34m\u001b[0m\u001b[0;34m\u001b[0m\u001b[0m\n",
      "\u001b[0;32m<ipython-input-2-5b466eb51904>\u001b[0m in \u001b[0;36mcall_freee_api\u001b[0;34m(relative_uri)\u001b[0m\n\u001b[1;32m     12\u001b[0m     }\n\u001b[1;32m     13\u001b[0m     \u001b[0mres\u001b[0m \u001b[0;34m=\u001b[0m \u001b[0mrequests\u001b[0m\u001b[0;34m.\u001b[0m\u001b[0mget\u001b[0m\u001b[0;34m(\u001b[0m\u001b[0muser_url\u001b[0m\u001b[0;34m,\u001b[0m \u001b[0mparams\u001b[0m \u001b[0;34m=\u001b[0m \u001b[0mparams\u001b[0m\u001b[0;34m)\u001b[0m\u001b[0;34m\u001b[0m\u001b[0m\n\u001b[0;32m---> 14\u001b[0;31m     \u001b[0mres\u001b[0m\u001b[0;34m.\u001b[0m\u001b[0mraise_for_status\u001b[0m\u001b[0;34m(\u001b[0m\u001b[0;34m)\u001b[0m\u001b[0;34m\u001b[0m\u001b[0m\n\u001b[0m\u001b[1;32m     15\u001b[0m     \u001b[0;32mreturn\u001b[0m \u001b[0mres\u001b[0m\u001b[0;34m\u001b[0m\u001b[0m\n\u001b[1;32m     16\u001b[0m \u001b[0;34m\u001b[0m\u001b[0m\n",
      "\u001b[0;32m/opt/conda/lib/python3.5/site-packages/requests/models.py\u001b[0m in \u001b[0;36mraise_for_status\u001b[0;34m(self)\u001b[0m\n\u001b[1;32m    860\u001b[0m \u001b[0;34m\u001b[0m\u001b[0m\n\u001b[1;32m    861\u001b[0m         \u001b[0;32mif\u001b[0m \u001b[0mhttp_error_msg\u001b[0m\u001b[0;34m:\u001b[0m\u001b[0;34m\u001b[0m\u001b[0m\n\u001b[0;32m--> 862\u001b[0;31m             \u001b[0;32mraise\u001b[0m \u001b[0mHTTPError\u001b[0m\u001b[0;34m(\u001b[0m\u001b[0mhttp_error_msg\u001b[0m\u001b[0;34m,\u001b[0m \u001b[0mresponse\u001b[0m\u001b[0;34m=\u001b[0m\u001b[0mself\u001b[0m\u001b[0;34m)\u001b[0m\u001b[0;34m\u001b[0m\u001b[0m\n\u001b[0m\u001b[1;32m    863\u001b[0m \u001b[0;34m\u001b[0m\u001b[0m\n\u001b[1;32m    864\u001b[0m     \u001b[0;32mdef\u001b[0m \u001b[0mclose\u001b[0m\u001b[0;34m(\u001b[0m\u001b[0mself\u001b[0m\u001b[0;34m)\u001b[0m\u001b[0;34m:\u001b[0m\u001b[0;34m\u001b[0m\u001b[0m\n",
      "\u001b[0;31mHTTPError\u001b[0m: 401 Client Error: Unauthorized for url: https://api.freee.co.jp/api/1/users/me.json?response_type=code&client_secret=d1de57fabbfb27bfa998dcb0f7bab0431de79d44c57a3823091f218bd2213b12&redirect_uri=urn%253Aietf%253Awg%253Aoauth%253A2.0%253Aoob&client_id=2e3a35b132e32628f617a197255e523f9cc55c18032f216c32c7470e001e2653"
     ]
    }
   ],
   "source": [
    "def call_freee_api(relative_uri):\n",
    "    url = \"https://api.freee.co.jp\"\n",
    "    appid = \"2e3a35b132e32628f617a197255e523f9cc55c18032f216c32c7470e001e2653\"\n",
    "    secret = \"d1de57fabbfb27bfa998dcb0f7bab0431de79d44c57a3823091f218bd2213b12\"\n",
    "    # auth_url = \"https://secure.freee.co.jp/oauth/authorize\"\n",
    "    user_url = url + relative_uri\n",
    "    params = {\n",
    "        \"client_id\" : appid,\n",
    "        \"redirect_uri\" : r\"urn%3Aietf%3Awg%3Aoauth%3A2.0%3Aoob\",\n",
    "        \"response_type\": \"code\", # jsonを試したが、駄目だった。必ずhtmlで帰ってくる\n",
    "        \"client_secret\": secret\n",
    "    }\n",
    "    res = requests.get(user_url, params = params)\n",
    "    res.raise_for_status()\n",
    "    return res\n",
    "    \n",
    "res = call_freee_api(\"/api/1/users/me.json\")\n",
    "print(res)\n",
    "# display(HTML(res.text)) # 認証用widgetが表示されるが、手元にwebサーバーがないと動かない。\n",
    "with open(\"./freee_return.html\", \"w\") as outfh:\n",
    "    outfh.write(res.text)"
   ]
  },
  {
   "cell_type": "markdown",
   "metadata": {
    "deletable": true,
    "editable": true
   },
   "source": []
  },
  {
   "cell_type": "markdown",
   "metadata": {
    "collapsed": false,
    "deletable": true,
    "editable": true
   },
   "source": [
    "## [ZEUS](http://www.cardservice.co.jp/point/flexible_02.html)\n",
    "\n",
    "決済サービス(正確には決済代行サービス？)\n",
    "SBIの決算報告書に乗っていたから試そうかと思ったが、決済サービスなので後回しにする。"
   ]
  },
  {
   "cell_type": "code",
   "execution_count": null,
   "metadata": {
    "collapsed": false,
    "deletable": true,
    "editable": true
   },
   "outputs": [],
   "source": []
  }
 ],
 "metadata": {
  "kernelspec": {
   "display_name": "Python 3",
   "language": "python",
   "name": "python3"
  },
  "language_info": {
   "codemirror_mode": {
    "name": "ipython",
    "version": 3
   },
   "file_extension": ".py",
   "mimetype": "text/x-python",
   "name": "python",
   "nbconvert_exporter": "python",
   "pygments_lexer": "ipython3",
   "version": "3.5.2"
  }
 },
 "nbformat": 4,
 "nbformat_minor": 2
}
