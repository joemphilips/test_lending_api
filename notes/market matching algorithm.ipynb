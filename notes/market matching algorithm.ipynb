{
 "cells": [
  {
   "cell_type": "markdown",
   "metadata": {},
   "source": [
    "## 【python】 market matching algorithm 関連のメモ\n",
    "\n",
    "マッチングアルゴリズムとは、例えば各種取引所などで、売り手と買い手を約定させる際に用いられる仕組みのことであり、大きく２つにわけられる。\n",
    "\n",
    "1. Continuous Trading ... 連続時間で次々に約定していく方式(FX、暗号通貨などでみるbid/askスプレッドのアレ)\n",
    "2. 組み合わせオークション方式 ... 時間を一定に区切り、そこで効率を最大化させるマッチング結果を計算する。\n",
    "\n",
    "機械学習におけるオンライン学習とバッチ学習の違いのようなものだと思えば良い。"
   ]
  },
  {
   "cell_type": "code",
   "execution_count": null,
   "metadata": {
    "collapsed": true
   },
   "outputs": [],
   "source": []
  }
 ],
 "metadata": {
  "kernelspec": {
   "display_name": "Python 3",
   "language": "python",
   "name": "python3"
  },
  "language_info": {
   "codemirror_mode": {
    "name": "ipython",
    "version": 3
   },
   "file_extension": ".py",
   "mimetype": "text/x-python",
   "name": "python",
   "nbconvert_exporter": "python",
   "pygments_lexer": "ipython3",
   "version": "3.5.2"
  }
 },
 "nbformat": 4,
 "nbformat_minor": 2
}
